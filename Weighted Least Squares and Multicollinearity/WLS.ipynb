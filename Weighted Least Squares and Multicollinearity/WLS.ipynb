{
 "cells": [
  {
   "cell_type": "code",
   "execution_count": 2,
   "id": "b2b43dff",
   "metadata": {},
   "outputs": [
    {
     "name": "stdout",
     "output_type": "stream",
     "text": [
      "WLS Model Summary:\n",
      "                            WLS Regression Results                            \n",
      "==============================================================================\n",
      "Dep. Variable:                   MEDV   R-squared:                       1.000\n",
      "Model:                            WLS   Adj. R-squared:                  1.000\n",
      "Method:                 Least Squares   F-statistic:                 1.152e+06\n",
      "Date:                Thu, 07 Nov 2024   Prob (F-statistic):               0.00\n",
      "Time:                        17:24:51   Log-Likelihood:                -1145.2\n",
      "No. Observations:                 506   AIC:                             2300.\n",
      "Df Residuals:                     501   BIC:                             2322.\n",
      "Df Model:                           4                                         \n",
      "Covariance Type:            nonrobust                                         \n",
      "==============================================================================\n",
      "                 coef    std err          t      P>|t|      [0.025      0.975]\n",
      "------------------------------------------------------------------------------\n",
      "const        -18.8891      0.172   -109.801      0.000     -19.227     -18.551\n",
      "AGE           -0.0353      0.000    -82.466      0.000      -0.036      -0.035\n",
      "RM             7.8219      0.026    301.750      0.000       7.771       7.873\n",
      "TAX           -0.0125   9.55e-05   -130.702      0.000      -0.013      -0.012\n",
      "INDUS         -0.0201      0.002     -9.899      0.000      -0.024      -0.016\n",
      "==============================================================================\n",
      "Omnibus:                     2322.301   Durbin-Watson:                   0.880\n",
      "Prob(Omnibus):                  0.000   Jarque-Bera (JB):               83.842\n",
      "Skew:                           0.358   Prob(JB):                     6.22e-19\n",
      "Kurtosis:                       1.139   Cond. No.                     3.07e+04\n",
      "==============================================================================\n",
      "\n",
      "Notes:\n",
      "[1] Standard Errors assume that the covariance matrix of the errors is correctly specified.\n",
      "[2] The condition number is large, 3.07e+04. This might indicate that there are\n",
      "strong multicollinearity or other numerical problems.\n",
      "Standard Errors of WLS Coefficients:\n",
      "const    0.172030\n",
      "AGE      0.000429\n",
      "RM       0.025922\n",
      "TAX      0.000096\n",
      "INDUS    0.002029\n",
      "dtype: float64\n"
     ]
    }
   ],
   "source": [
    "import numpy as np\n",
    "import pandas as pd\n",
    "import statsmodels.api as sm\n",
    "\n",
    "# Load the dataset\n",
    "df = pd.read_csv(\"housing_hw.csv\").dropna()\n",
    "\n",
    "\n",
    "# Define the independent and dependent variables\n",
    "X = df[['AGE', 'RM', 'TAX', 'INDUS']]\n",
    "y = df['MEDV']\n",
    "X = sm.add_constant(X)\n",
    "\n",
    "# Initial OLS model to get residuals\n",
    "ols_model = sm.OLS(y, X).fit()\n",
    "df['residuals'] = ols_model.resid\n",
    "\n",
    "# Calculate weights as the inverse of the squared residuals\n",
    "df['weights'] = 1 / (df['residuals'] ** 2)\n",
    "\n",
    "# Fit the WLS model\n",
    "wls_model = sm.WLS(y, X, weights=df['weights']).fit()\n",
    "\n",
    "print(\"WLS Model Summary:\")\n",
    "print(wls_model.summary())\n",
    "\n",
    "\n",
    "# Extract standard errors of each coefficient\n",
    "print(\"Standard Errors of WLS Coefficients:\")\n",
    "print(wls_model.bse)  # bse attribute contains the standard errors\n"
   ]
  },
  {
   "cell_type": "code",
   "execution_count": null,
   "id": "ef6cf9f7",
   "metadata": {},
   "outputs": [],
   "source": []
  }
 ],
 "metadata": {
  "kernelspec": {
   "display_name": "Python 3 (ipykernel)",
   "language": "python",
   "name": "python3"
  },
  "language_info": {
   "codemirror_mode": {
    "name": "ipython",
    "version": 3
   },
   "file_extension": ".py",
   "mimetype": "text/x-python",
   "name": "python",
   "nbconvert_exporter": "python",
   "pygments_lexer": "ipython3",
   "version": "3.11.4"
  }
 },
 "nbformat": 4,
 "nbformat_minor": 5
}
