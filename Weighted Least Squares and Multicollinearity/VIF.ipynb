{
 "cells": [
  {
   "cell_type": "code",
   "execution_count": 3,
   "id": "73fc1d1a-bbf2-40f1-ab84-e04bd532a125",
   "metadata": {},
   "outputs": [
    {
     "name": "stdout",
     "output_type": "stream",
     "text": [
      "    Feature         VIF\n",
      "0     const  534.046305\n",
      "1      CRIM    1.748900\n",
      "2     INDUS    3.901952\n",
      "3       NOX    4.359450\n",
      "4        RM    1.864766\n",
      "5       AGE    3.035149\n",
      "6       DIS    3.312849\n",
      "7       RAD    7.281696\n",
      "8       TAX    8.426299\n",
      "9   PTRATIO    1.606387\n",
      "10    LSTAT    2.849931\n",
      "  Feature         VIF\n",
      "0   const  534.046305\n",
      "7     RAD    7.281696\n",
      "8     TAX    8.426299\n"
     ]
    }
   ],
   "source": [
    "import pandas as pd\n",
    "import statsmodels.api as sm\n",
    "from statsmodels.stats.outliers_influence import variance_inflation_factor\n",
    "\n",
    "data = pd.read_csv('housing_hw.csv')\n",
    "\n",
    "# Prepare the predictors (X) and target (y)\n",
    "X = data.drop(columns=['MEDV'])\n",
    "y = data['MEDV']\n",
    "\n",
    "# Add a constant to the predictors (required for VIF calculation)\n",
    "X = sm.add_constant(X)\n",
    "\n",
    "# Calculate VIF for each predictor\n",
    "vif_data = pd.DataFrame()\n",
    "vif_data['Feature'] = X.columns\n",
    "vif_data['VIF'] = [variance_inflation_factor(X.values, i) for i in range(X.shape[1])]\n",
    "\n",
    "# Display VIF values\n",
    "print(vif_data)\n",
    "\n",
    "# Identify predictors with high multicollinearity (VIF > 5 or 10 as thresholds)\n",
    "high_vif = vif_data[vif_data['VIF'] > 5]\n",
    "print(high_vif)\n"
   ]
  },
  {
   "cell_type": "code",
   "execution_count": null,
   "id": "389eb3ef-c0ee-46d6-ba01-2cdb9907654a",
   "metadata": {},
   "outputs": [],
   "source": []
  }
 ],
 "metadata": {
  "kernelspec": {
   "display_name": "Python 3 (ipykernel)",
   "language": "python",
   "name": "python3"
  },
  "language_info": {
   "codemirror_mode": {
    "name": "ipython",
    "version": 3
   },
   "file_extension": ".py",
   "mimetype": "text/x-python",
   "name": "python",
   "nbconvert_exporter": "python",
   "pygments_lexer": "ipython3",
   "version": "3.12.2"
  }
 },
 "nbformat": 4,
 "nbformat_minor": 5
}
