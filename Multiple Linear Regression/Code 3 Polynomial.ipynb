{
 "cells": [
  {
   "cell_type": "code",
   "execution_count": null,
   "id": "0be24216",
   "metadata": {},
   "outputs": [],
   "source": [
    "import pandas as pd\n",
    "from sklearn.linear_model import LinearRegression\n",
    "from sklearn.preprocessing import PolynomialFeatures\n",
    "import statsmodels.api as sm\n",
    "\n",
    "# Read the data\n",
    "data = pd.read_csv('salary_data_new.csv')\n",
    "data = pd.get_dummies(data, columns=['education'], drop_first=True, dtype=int)\n",
    "\n",
    "# (1) Use all features\n",
    "X1 = data.drop(columns=['salary'])\n",
    "y = data['salary']\n",
    "model1 = sm.OLS(y, sm.add_constant(X1)).fit()\n",
    "print(model1.summary())\n",
    "\n",
    "# (2) Use only age with 2nd order polynomial\n",
    "poly = PolynomialFeatures(degree=2)\n",
    "age_poly = poly.fit_transform(data[['age']])\n",
    "X2 = pd.DataFrame(age_poly, columns=poly.get_feature_names_out(['age']))\n",
    "model2 = sm.OLS(y, sm.add_constant(X2)).fit()\n",
    "print(model2.summary())\n",
    "\n",
    "# (3) Use only Midterm with 2nd order polynomial\n",
    "midterm_poly = poly.fit_transform(data[['Midterm']])\n",
    "X3 = pd.DataFrame(midterm_poly, columns=poly.get_feature_names_out(['Midterm']))\n",
    "model3 = sm.OLS(y, sm.add_constant(X3)).fit()\n",
    "print(model3.summary())\n",
    "\n",
    "# (4) Use both age and Midterm with 2nd order polynomial|\n",
    "combined_poly = poly.fit_transform(data[['age', 'Midterm']])\n",
    "X4 = pd.DataFrame(combined_poly, columns=poly.get_feature_names_out(['age', 'Midterm']))\n",
    "model4 = sm.OLS(y, sm.add_constant(X4)).fit()\n",
    "print(model4.summary())\n",
    "\n",
    "# (5) Use both age and Midterm with 2nd order polynomial and education\n",
    "combined_poly_edu = poly.fit_transform(data[['age', 'Midterm']])\n",
    "X5 = pd.DataFrame(combined_poly_edu, columns=poly.get_feature_names_out(['age', 'Midterm']))\n",
    "X5 = pd.concat([X5, data[['education_bachelor', 'education_highschool']]], axis=1)\n",
    "model5 = sm.OLS(y, sm.add_constant(X5)).fit()\n",
    "print(model5.summary())\n"
   ]
  },
  {
   "cell_type": "code",
   "execution_count": null,
   "id": "443a6c13-255b-48fc-a47e-f94500cf03a7",
   "metadata": {},
   "outputs": [],
   "source": []
  }
 ],
 "metadata": {
  "kernelspec": {
   "display_name": "Python 3 (ipykernel)",
   "language": "python",
   "name": "python3"
  },
  "language_info": {
   "codemirror_mode": {
    "name": "ipython",
    "version": 3
   },
   "file_extension": ".py",
   "mimetype": "text/x-python",
   "name": "python",
   "nbconvert_exporter": "python",
   "pygments_lexer": "ipython3",
   "version": "3.12.2"
  }
 },
 "nbformat": 4,
 "nbformat_minor": 5
}
