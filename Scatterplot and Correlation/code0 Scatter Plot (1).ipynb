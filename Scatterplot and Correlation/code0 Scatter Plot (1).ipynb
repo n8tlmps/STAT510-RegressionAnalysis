{
 "cells": [
  {
   "cell_type": "code",
   "execution_count": null,
   "id": "2c2fb539",
   "metadata": {},
   "outputs": [],
   "source": [
    "# Load necessary packages\n",
    "import pandas as pd\n",
    "import seaborn as sns\n",
    "import matplotlib.pyplot as plt\n",
    "\n",
    "# Load the GaltonFamilies dataset and read it into a pandas DataFrame\n",
    "GaltonFamilies = pd.read_csv('GaltonFamilies.csv')"
   ]
  },
  {
   "cell_type": "code",
   "execution_count": null,
   "id": "6bd96950",
   "metadata": {},
   "outputs": [],
   "source": [
    "# Create a scatter plot of mother’s height against child’s height, color-coded by the child's gender\n",
    "plt.figure(figsize=(10, 6))\n",
    "sns.scatterplot(data=GaltonFamilies, x='mother', y='childHeight', hue='gender')\n",
    "sns.regplot(data=GaltonFamilies, x='mother', y='childHeight', scatter=False, lowess=False)\n",
    "plt.xlabel(\"Mother's Height\")\n",
    "plt.ylabel(\"Child's Height\")\n",
    "plt.title(\"Mother's Height vs Child's Height by Gender\")\n",
    "plt.show()"
   ]
  },
  {
   "cell_type": "code",
   "execution_count": null,
   "id": "6053b35c",
   "metadata": {},
   "outputs": [],
   "source": [
    "# Filter the dataset to include only rows where the child is female\n",
    "df_F = GaltonFamilies[GaltonFamilies['gender'] == 'female']\n",
    "df_M = GaltonFamilies[GaltonFamilies['gender'] == 'male']\n",
    "\n",
    "# Create a scatter plot similar to the one above, but only for female children\n",
    "plt.figure(figsize=(10, 6))\n",
    "sns.scatterplot(data=df_F, x='mother', y='childHeight', hue='gender')\n",
    "sns.regplot(data=df_F, x='mother', y='childHeight', scatter=False, lowess=False)\n",
    "plt.xlabel(\"Mother's Height\")\n",
    "plt.ylabel(\"Daughter's Height\")\n",
    "plt.title(\"Mother's Height vs Daughter's Height\")\n",
    "plt.show()"
   ]
  },
  {
   "cell_type": "code",
   "execution_count": null,
   "id": "8a4cf25d",
   "metadata": {},
   "outputs": [],
   "source": [
    "GaltonFamilies.corr()\n",
    "# Calculate the correlation between midparent height and child height for all children\n",
    "cor_midparent_child = GaltonFamilies['midparentHeight'].corr(GaltonFamilies['childHeight'])\n",
    "\n",
    "# Calculate the correlation between mother's height and daughter's height, using the filtered dataset for female children\n",
    "cor_mother_daughter = df_F['mother'].corr(df_F['childHeight'])\n",
    "\n",
    "# Calculate the correlation between father's height and son's height\n",
    "cor_father_son = df_M['father'].corr(df_M['childHeight'])\n",
    "\n",
    "# Display the calculated correlation coefficients for midparent-child, mother-daughter, and father-son height relationships\n",
    "print(f\"Correlation between midparentHeight and childHeight: {cor_midparent_child:.4f}\")\n",
    "print(f\"Correlation between mother and daughter height: {cor_mother_daughter:.4f}\")\n",
    "print(f\"Correlation between father and son height: {cor_father_son:.4f}\")"
   ]
  },
  {
   "cell_type": "code",
   "execution_count": null,
   "id": "56a2686b",
   "metadata": {},
   "outputs": [],
   "source": []
  }
 ],
 "metadata": {
  "kernelspec": {
   "display_name": "Python 3 (ipykernel)",
   "language": "python",
   "name": "python3"
  },
  "language_info": {
   "codemirror_mode": {
    "name": "ipython",
    "version": 3
   },
   "file_extension": ".py",
   "mimetype": "text/x-python",
   "name": "python",
   "nbconvert_exporter": "python",
   "pygments_lexer": "ipython3",
   "version": "3.11.4"
  }
 },
 "nbformat": 4,
 "nbformat_minor": 5
}
